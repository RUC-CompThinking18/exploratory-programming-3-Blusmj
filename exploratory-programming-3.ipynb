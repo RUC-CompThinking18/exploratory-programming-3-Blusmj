{
 "cells": [
  {
   "cell_type": "code",
   "execution_count": 76,
   "metadata": {},
   "outputs": [],
   "source": [
    "import re \n",
    "source = open('408.txt')#opens the needed text file\n",
    "soul = source.read()\n",
    "def regex(word):\n",
    "    if type(word) != str:\n",
    "        raise TypeError(\"Not a string.\")#Returns type error if varaiable isn't string\n",
    "    find=re.findall(r\"\\w*at\\b\", word)\n",
    "    chara=[]\n",
    "    for word in find: #This tells if it has more than 3 letters\n",
    "        if len(word)>3:\n",
    "            chara.append(word)\n",
    "        return chara\n"
   ]
  },
  {
   "cell_type": "code",
   "execution_count": null,
   "metadata": {},
   "outputs": [],
   "source": []
  },
  {
   "cell_type": "code",
   "execution_count": null,
   "metadata": {},
   "outputs": [],
   "source": []
  }
 ],
 "metadata": {
  "kernelspec": {
   "display_name": "Python 2",
   "language": "python",
   "name": "python2"
  },
  "language_info": {
   "codemirror_mode": {
    "name": "ipython",
    "version": 2
   },
   "file_extension": ".py",
   "mimetype": "text/x-python",
   "name": "python",
   "nbconvert_exporter": "python",
   "pygments_lexer": "ipython2",
   "version": "2.7.15"
  }
 },
 "nbformat": 4,
 "nbformat_minor": 2
}
